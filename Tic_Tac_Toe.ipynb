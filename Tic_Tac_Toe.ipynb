{
 "cells": [
  {
   "cell_type": "markdown",
   "id": "d430ff9a",
   "metadata": {},
   "source": [
    "### Tic Tac Toe\n",
    "\n",
    "This game will be played between two players\n",
    "\n",
    "Though called tic tac toe, it is the same as X and O in Nigeria.\n",
    "\n",
    "Different functions will be written and combined in the end"
   ]
  },
  {
   "cell_type": "code",
   "execution_count": 68,
   "id": "aa6d1f9c",
   "metadata": {},
   "outputs": [],
   "source": [
    "from IPython.display import clear_output\n",
    "\n",
    "#function to print out the board\n",
    "def display_board(board):\n",
    "    display = board[1:]\n",
    "    print (display[0] + \"|\" + display[1] + \"|\" + display[2])\n",
    "    print ('-'*5)\n",
    "    print (display[3] + \"|\" + display[4] + \"|\" + display[5])\n",
    "    print ('-'*5)\n",
    "    print (display[6] + \"|\" + display[7] + \"|\" + display[8])\n"
   ]
  },
  {
   "cell_type": "code",
   "execution_count": 69,
   "id": "13c6b412",
   "metadata": {},
   "outputs": [
    {
     "name": "stdout",
     "output_type": "stream",
     "text": [
      "X|O|X\n",
      "-----\n",
      "O|X|O\n",
      "-----\n",
      "X|O|X\n"
     ]
    }
   ],
   "source": [
    "test_board = ['#','X','O','X','O','X','O','X','O','X']\n",
    "display_board(test_board)"
   ]
  },
  {
   "cell_type": "code",
   "execution_count": 70,
   "id": "6d9323df",
   "metadata": {},
   "outputs": [],
   "source": [
    "# function to take a player's input on if they want ot be X or O\n",
    "def player_input():\n",
    "    \n",
    "    while True:\n",
    "        \n",
    "        marker = input(\"Do you want to be X or O: \")\n",
    "\n",
    "        if marker.lower() == 'x':\n",
    "            return 'X'\n",
    "            False\n",
    "        elif marker.lower() == 'o':\n",
    "            return 'O'\n",
    "            False\n",
    "        else:\n",
    "            clear_output()\n",
    "            print('incorrect input')\n",
    "            continue\n",
    "        "
   ]
  },
  {
   "cell_type": "code",
   "execution_count": 71,
   "id": "e0f80477",
   "metadata": {},
   "outputs": [],
   "source": [
    "#player_input()"
   ]
  },
  {
   "cell_type": "code",
   "execution_count": 72,
   "id": "b22ecfcf",
   "metadata": {},
   "outputs": [],
   "source": [
    "# function to assign the marker on the board based on the position chosen\n",
    "def place_marker(board, marker, position):\n",
    "    \n",
    "    board[position] = marker\n",
    "    \n",
    "    return board"
   ]
  },
  {
   "cell_type": "raw",
   "id": "6e12596f",
   "metadata": {},
   "source": [
    "display_board(test_board)\n",
    "print('\\n')\n",
    "place_marker(test_board,'$',7)\n",
    "display_board(test_board)"
   ]
  },
  {
   "cell_type": "raw",
   "id": "a81934ca",
   "metadata": {},
   "source": [
    "# board with the right positions\n",
    "\n",
    "position_board = ['#','1','2','3','4','5','6','7','8','9']\n",
    "display_board(position_board)\n",
    "position_board.index(position_board[5])\n"
   ]
  },
  {
   "cell_type": "code",
   "execution_count": 73,
   "id": "c6050c84",
   "metadata": {},
   "outputs": [],
   "source": [
    "# function to check the board continuosly if someone has won\n",
    "def win_check(board, mark):\n",
    "    \n",
    "    win_positions = ['123','456','789','147','258','369','159','357']\n",
    "    # '012','345','678','036','147','258','045','246'\n",
    "    \n",
    "    \n",
    "    for pos in win_positions:\n",
    "        if board[int(pos[0])] == board[int(pos[1])] == board[int(pos[2])] == mark:\n",
    "            #print (pos)\n",
    "            #print('found')\n",
    "            print('\\n')\n",
    "            print ('***/ ' + mark + ' WON/***')\n",
    "            return True\n",
    "    return False    \n",
    "            \n",
    "    '''\n",
    "    for x in range(len(board)):\n",
    "        if board[x] == mark:\n",
    "            check = check + str(x)\n",
    "    \n",
    "    print (check in win_positions)\n",
    "            \n",
    "    '''\n",
    "    \n",
    "    \n"
   ]
  },
  {
   "cell_type": "raw",
   "id": "aaa81566",
   "metadata": {},
   "source": [
    "test_board = ['#','X','X','X','X','O','O','O','O','X']\n",
    "display_board(test_board)\n",
    "mark = 'X'\n",
    "win_check(test_board,mark)"
   ]
  },
  {
   "cell_type": "code",
   "execution_count": 74,
   "id": "c450060e",
   "metadata": {},
   "outputs": [],
   "source": [
    "# function to chose who goes first at random\n",
    "\n",
    "import random\n",
    "\n",
    "def choose_first():\n",
    "    choice = ['X', 'O']\n",
    "    \n",
    "    return random.choice(choice)"
   ]
  },
  {
   "cell_type": "raw",
   "id": "59563e21",
   "metadata": {},
   "source": [
    "choose_first()"
   ]
  },
  {
   "cell_type": "code",
   "execution_count": 75,
   "id": "b1feba86",
   "metadata": {},
   "outputs": [
    {
     "name": "stdout",
     "output_type": "stream",
     "text": [
      "X|X|X\n",
      "-----\n",
      "X|u|O\n",
      "-----\n",
      "O|O|X\n",
      "play on\n"
     ]
    },
    {
     "data": {
      "text/plain": [
       "False"
      ]
     },
     "execution_count": 75,
     "metadata": {},
     "output_type": "execute_result"
    }
   ],
   "source": [
    "# check if there is an available space on the board\n",
    "\n",
    "def space_check(board, position):\n",
    "    \n",
    "    if board[position] == 'X' or board[position] == 'O':\n",
    "        print('That space is already taken')\n",
    "        return True\n",
    "    else:\n",
    "        print('play on')\n",
    "        return False\n",
    "        \n"
   ]
  },
  {
   "cell_type": "raw",
   "id": "7eda1448",
   "metadata": {},
   "source": [
    "test_board = ['#','X','X','X','X','u','O','O','O','X']\n",
    "display_board(test_board)\n",
    "space_check(test_board, 5)"
   ]
  },
  {
   "cell_type": "code",
   "execution_count": 76,
   "id": "9d68268b",
   "metadata": {},
   "outputs": [],
   "source": [
    "# checks if the board is full\n",
    "def full_board_check(board):\n",
    "\n",
    "\n",
    "    count = 0\n",
    "    for x in range(len(board)):\n",
    "        if board[x] == ' ':\n",
    "            #print(str(x) + ' position is still available on the board')\n",
    "            continue\n",
    "        else:\n",
    "            count += 1\n",
    "            if count == 10:\n",
    "                #print('full board')\n",
    "                return True\n",
    "    return False\n",
    "    "
   ]
  },
  {
   "cell_type": "raw",
   "id": "445ca566",
   "metadata": {},
   "source": [
    "test_board = ['#','X','X','X','O','O',' ','O','O',' ']\n",
    "display_board(test_board)\n",
    "full_board_check(test_board, 6)"
   ]
  },
  {
   "cell_type": "code",
   "execution_count": 77,
   "id": "d8cb4ca4",
   "metadata": {},
   "outputs": [],
   "source": [
    "# take in a players choice of position on the board and check if it is free\n",
    "\n",
    "def player_choice(board):\n",
    "    check = True\n",
    "    while check:\n",
    "        pos = input('choose your position: ')\n",
    "        if pos.isdigit() and int(pos) in range(1,10):\n",
    "            check = space_check(board, int(pos))\n",
    "        else:\n",
    "            clear_output()\n",
    "            print('incorrect')\n",
    "            continue\n",
    "            \n",
    "    return int(pos)"
   ]
  },
  {
   "cell_type": "raw",
   "id": "24b07d14",
   "metadata": {},
   "source": [
    "test_board = ['#','X','X','X','X',' ',' ','O','O','X']\n",
    "display_board(test_board)\n",
    "player_choice(test_board)"
   ]
  },
  {
   "cell_type": "code",
   "execution_count": 81,
   "id": "1be56c09",
   "metadata": {},
   "outputs": [],
   "source": [
    "# asks player if they wish to continue\n",
    "from IPython.display import clear_output\n",
    "\n",
    "def replay():\n",
    "    \n",
    "    wish = input('Do you wish to continue: ')\n",
    "    yes = ['Y', 'yes', 'Yes']\n",
    "    no = ['N', 'no', 'No']\n",
    "    \n",
    "    if wish in yes:\n",
    "        print('ok')\n",
    "        clear_output()\n",
    "        return True\n",
    "    if wish in no:\n",
    "        print('goodbye')\n",
    "        return False"
   ]
  },
  {
   "cell_type": "raw",
   "id": "a3a74e1d",
   "metadata": {},
   "source": [
    "replay()"
   ]
  },
  {
   "cell_type": "code",
   "execution_count": 79,
   "id": "f57a0dc1",
   "metadata": {},
   "outputs": [],
   "source": [
    "# function for the intro and print out board with the positions\n",
    "\n",
    "def game_intro():\n",
    "    print('Welcome to Tic Tac Toe')\n",
    "    print('Below is a sample board with the positions for you to choose')\n",
    "    print('\\n')\n",
    "    position_board = ['#','1','2','3','4','5','6','7','8','9']\n",
    "    display_board(position_board)\n",
    "    print('\\n'*3)\n"
   ]
  },
  {
   "cell_type": "raw",
   "id": "637f059f",
   "metadata": {},
   "source": [
    "game_intro()"
   ]
  },
  {
   "cell_type": "code",
   "execution_count": 83,
   "id": "749ee59b",
   "metadata": {},
   "outputs": [
    {
     "name": "stdout",
     "output_type": "stream",
     "text": [
      "Do you want to be X or O: o\n",
      "one is O two is X\n",
      "player one is O player two is X\n",
      "player one's turn\n",
      "choose your position: 1\n",
      "play on\n",
      "O| | \n",
      "-----\n",
      " | | \n",
      "-----\n",
      " | | \n",
      "player two's turn\n",
      "choose your position: 5\n",
      "play on\n",
      "O| | \n",
      "-----\n",
      " |X| \n",
      "-----\n",
      " | | \n",
      "player one's turn\n",
      "choose your position: 3\n",
      "play on\n",
      "O| |O\n",
      "-----\n",
      " |X| \n",
      "-----\n",
      " | | \n",
      "player two's turn\n",
      "choose your position: 2\n",
      "play on\n",
      "O|X|O\n",
      "-----\n",
      " |X| \n",
      "-----\n",
      " | | \n",
      "player one's turn\n",
      "choose your position: 8\n",
      "play on\n",
      "O|X|O\n",
      "-----\n",
      " |X| \n",
      "-----\n",
      " |O| \n",
      "player two's turn\n",
      "choose your position: 4\n",
      "play on\n",
      "O|X|O\n",
      "-----\n",
      "X|X| \n",
      "-----\n",
      " |O| \n",
      "player one's turn\n",
      "choose your position: 6\n",
      "play on\n",
      "O|X|O\n",
      "-----\n",
      "X|X|O\n",
      "-----\n",
      " |O| \n",
      "player two's turn\n",
      "choose your position: 9\n",
      "play on\n",
      "O|X|O\n",
      "-----\n",
      "X|X|O\n",
      "-----\n",
      " |O|X\n",
      "player one's turn\n",
      "choose your position: 7\n",
      "play on\n",
      "O|X|O\n",
      "-----\n",
      "X|X|O\n",
      "-----\n",
      "O|O|X\n",
      "Do you wish to continue: no\n",
      "goodbye\n"
     ]
    }
   ],
   "source": [
    "game_intro()\n",
    "\n",
    "play = True\n",
    "while play:\n",
    "    board = ['#',' ',' ',' ',' ',' ',' ',' ',' ',' ']\n",
    "    one = ''\n",
    "    two = ''\n",
    "    one = player_input()\n",
    "    if one == 'X':\n",
    "        two = 'O'\n",
    "    elif one == 'O':\n",
    "        two = 'X'\n",
    "    print ('one is ' + one + ' two is ' + two)\n",
    "    \n",
    "    start = choose_first()\n",
    "    \n",
    "    if start == 'X':\n",
    "        player_1 = 'X'\n",
    "        player_2 = 'O'\n",
    "    if start == 'O':\n",
    "        player_1 = 'O'\n",
    "        player_2 = 'X'\n",
    "    print ('player one is ' + player_1 + ' player two is ' + player_2)\n",
    "    \n",
    "    game_on = True\n",
    "    \n",
    "    \n",
    "    while game_on:\n",
    "        print('player one\\'s turn')\n",
    "        first = player_choice(board)\n",
    "        place_marker(board, player_1, first)\n",
    "        display_board(board)\n",
    "        win = win_check(board, player_1)\n",
    "        full = full_board_check(board)\n",
    "        if win == False and full == False :\n",
    "            print('player two\\'s turn')\n",
    "            second = player_choice(board)\n",
    "            place_marker(board, player_2, second)\n",
    "            display_board(board)\n",
    "            win = win_check(board, player_2)\n",
    "            full = full_board_check(board)\n",
    "            if win == False and full == False:\n",
    "                continue\n",
    "            else:\n",
    "                game_on = False\n",
    "        else:\n",
    "            game_on = False\n",
    "            \n",
    "    \n",
    "    play = replay()"
   ]
  },
  {
   "cell_type": "markdown",
   "id": "a4a321a2",
   "metadata": {},
   "source": [
    "##### "
   ]
  }
 ],
 "metadata": {
  "kernelspec": {
   "display_name": "Python 3",
   "language": "python",
   "name": "python3"
  },
  "language_info": {
   "codemirror_mode": {
    "name": "ipython",
    "version": 3
   },
   "file_extension": ".py",
   "mimetype": "text/x-python",
   "name": "python",
   "nbconvert_exporter": "python",
   "pygments_lexer": "ipython3",
   "version": "3.8.8"
  }
 },
 "nbformat": 4,
 "nbformat_minor": 5
}
